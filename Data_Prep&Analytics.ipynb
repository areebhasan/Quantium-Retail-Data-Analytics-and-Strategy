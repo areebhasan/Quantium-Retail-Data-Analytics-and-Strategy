{
 "cells": [
  {
   "cell_type": "markdown",
   "id": "07c0b2cc-bed2-48bf-a313-a36561ffaa16",
   "metadata": {},
   "source": [
    "# Data Preparation and Customer Analytics\n",
    "### By Areeb Hasan :)"
   ]
  },
  {
   "cell_type": "markdown",
   "id": "0efa2058-fc95-45cb-b7b9-7ae5b023f5f0",
   "metadata": {},
   "source": [
    "#### Importing necessary libraries "
   ]
  },
  {
   "cell_type": "code",
   "execution_count": 108,
   "id": "09f0ba60-c87c-4ec2-8199-39165bcd91db",
   "metadata": {},
   "outputs": [],
   "source": [
    "import pandas as pd\n",
    "import numpy as np\n",
    "import matplotlib.pyplot as plt\n",
    "import seaborn as sns"
   ]
  },
  {
   "cell_type": "markdown",
   "id": "4bbe474e-4451-42ff-8463-2e58af34003b",
   "metadata": {},
   "source": [
    "#### Checking Path"
   ]
  },
  {
   "cell_type": "code",
   "execution_count": 110,
   "id": "8373263f-a98d-4fb9-9ae3-98376c1a11e6",
   "metadata": {},
   "outputs": [
    {
     "name": "stdout",
     "output_type": "stream",
     "text": [
      "['QVI_transaction_data.xlsx', 'Data_Prep&Analytics.ipynb', '.DS_Store', 'QVI_purchase_behaviour.csv', 'README.md', 'QVI_transaction_data.csv', '.gitattributes', '.ipynb_checkpoints', '.git']\n"
     ]
    }
   ],
   "source": [
    "import os\n",
    "\n",
    "# Define the path you want to list\n",
    "directory_path = \"/Users/areebhasan/Documents/Data Science/Quantium-Retail-Data-Analytics-and-Strategy/\"\n",
    "\n",
    "# List the contents of the directory\n",
    "print(os.listdir(directory_path))\n"
   ]
  },
  {
   "cell_type": "markdown",
   "id": "10edc584-7f77-445f-a2ec-45546bbd20e6",
   "metadata": {},
   "source": [
    "#### Loading the datasets"
   ]
  },
  {
   "cell_type": "code",
   "execution_count": 112,
   "id": "d4fdbeab-c1c9-4889-9424-88a0365504fb",
   "metadata": {},
   "outputs": [],
   "source": [
    "file_path = \"/Users/areebhasan/Documents/Data Science/Quantium-Retail-Data-Analytics-and-Strategy/\" #Path to be changed once downloaded from Github\n",
    "\n",
    "transaction_data = pd.read_csv(f\"{file_path}QVI_transaction_data.csv\")\n",
    "customer_data = pd.read_csv(f\"{file_path}QVI_purchase_behaviour.csv\")"
   ]
  },
  {
   "cell_type": "markdown",
   "id": "f9636293-3e39-4e8e-b02c-7ec1a829ff98",
   "metadata": {},
   "source": [
    "#### Exploratory Data Analysis"
   ]
  },
  {
   "cell_type": "code",
   "execution_count": 114,
   "id": "bf3b2308-a6f7-4f5f-b2aa-315599a430ae",
   "metadata": {},
   "outputs": [
    {
     "name": "stdout",
     "output_type": "stream",
     "text": [
      "<class 'pandas.core.frame.DataFrame'>\n",
      "RangeIndex: 264836 entries, 0 to 264835\n",
      "Data columns (total 8 columns):\n",
      " #   Column          Non-Null Count   Dtype  \n",
      "---  ------          --------------   -----  \n",
      " 0   DATE            264836 non-null  int64  \n",
      " 1   STORE_NBR       264836 non-null  int64  \n",
      " 2   LYLTY_CARD_NBR  264836 non-null  int64  \n",
      " 3   TXN_ID          264836 non-null  int64  \n",
      " 4   PROD_NBR        264836 non-null  int64  \n",
      " 5   PROD_NAME       264836 non-null  object \n",
      " 6   PROD_QTY        264836 non-null  int64  \n",
      " 7   TOT_SALES       264836 non-null  float64\n",
      "dtypes: float64(1), int64(6), object(1)\n",
      "memory usage: 16.2+ MB\n"
     ]
    },
    {
     "data": {
      "text/html": [
       "<div>\n",
       "<style scoped>\n",
       "    .dataframe tbody tr th:only-of-type {\n",
       "        vertical-align: middle;\n",
       "    }\n",
       "\n",
       "    .dataframe tbody tr th {\n",
       "        vertical-align: top;\n",
       "    }\n",
       "\n",
       "    .dataframe thead th {\n",
       "        text-align: right;\n",
       "    }\n",
       "</style>\n",
       "<table border=\"1\" class=\"dataframe\">\n",
       "  <thead>\n",
       "    <tr style=\"text-align: right;\">\n",
       "      <th></th>\n",
       "      <th>DATE</th>\n",
       "      <th>STORE_NBR</th>\n",
       "      <th>LYLTY_CARD_NBR</th>\n",
       "      <th>TXN_ID</th>\n",
       "      <th>PROD_NBR</th>\n",
       "      <th>PROD_NAME</th>\n",
       "      <th>PROD_QTY</th>\n",
       "      <th>TOT_SALES</th>\n",
       "    </tr>\n",
       "  </thead>\n",
       "  <tbody>\n",
       "    <tr>\n",
       "      <th>0</th>\n",
       "      <td>43390</td>\n",
       "      <td>1</td>\n",
       "      <td>1000</td>\n",
       "      <td>1</td>\n",
       "      <td>5</td>\n",
       "      <td>Natural Chip        Compny SeaSalt175g</td>\n",
       "      <td>2</td>\n",
       "      <td>6.0</td>\n",
       "    </tr>\n",
       "    <tr>\n",
       "      <th>1</th>\n",
       "      <td>43599</td>\n",
       "      <td>1</td>\n",
       "      <td>1307</td>\n",
       "      <td>348</td>\n",
       "      <td>66</td>\n",
       "      <td>CCs Nacho Cheese    175g</td>\n",
       "      <td>3</td>\n",
       "      <td>6.3</td>\n",
       "    </tr>\n",
       "    <tr>\n",
       "      <th>2</th>\n",
       "      <td>43605</td>\n",
       "      <td>1</td>\n",
       "      <td>1343</td>\n",
       "      <td>383</td>\n",
       "      <td>61</td>\n",
       "      <td>Smiths Crinkle Cut  Chips Chicken 170g</td>\n",
       "      <td>2</td>\n",
       "      <td>2.9</td>\n",
       "    </tr>\n",
       "    <tr>\n",
       "      <th>3</th>\n",
       "      <td>43329</td>\n",
       "      <td>2</td>\n",
       "      <td>2373</td>\n",
       "      <td>974</td>\n",
       "      <td>69</td>\n",
       "      <td>Smiths Chip Thinly  S/Cream&amp;Onion 175g</td>\n",
       "      <td>5</td>\n",
       "      <td>15.0</td>\n",
       "    </tr>\n",
       "    <tr>\n",
       "      <th>4</th>\n",
       "      <td>43330</td>\n",
       "      <td>2</td>\n",
       "      <td>2426</td>\n",
       "      <td>1038</td>\n",
       "      <td>108</td>\n",
       "      <td>Kettle Tortilla ChpsHny&amp;Jlpno Chili 150g</td>\n",
       "      <td>3</td>\n",
       "      <td>13.8</td>\n",
       "    </tr>\n",
       "  </tbody>\n",
       "</table>\n",
       "</div>"
      ],
      "text/plain": [
       "    DATE  STORE_NBR  LYLTY_CARD_NBR  TXN_ID  PROD_NBR  \\\n",
       "0  43390          1            1000       1         5   \n",
       "1  43599          1            1307     348        66   \n",
       "2  43605          1            1343     383        61   \n",
       "3  43329          2            2373     974        69   \n",
       "4  43330          2            2426    1038       108   \n",
       "\n",
       "                                  PROD_NAME  PROD_QTY  TOT_SALES  \n",
       "0    Natural Chip        Compny SeaSalt175g         2        6.0  \n",
       "1                  CCs Nacho Cheese    175g         3        6.3  \n",
       "2    Smiths Crinkle Cut  Chips Chicken 170g         2        2.9  \n",
       "3    Smiths Chip Thinly  S/Cream&Onion 175g         5       15.0  \n",
       "4  Kettle Tortilla ChpsHny&Jlpno Chili 150g         3       13.8  "
      ]
     },
     "execution_count": 114,
     "metadata": {},
     "output_type": "execute_result"
    }
   ],
   "source": [
    "transaction_data.info()\n",
    "transaction_data.head()"
   ]
  },
  {
   "cell_type": "markdown",
   "id": "1a9c3d84-0da6-4799-b627-74f81d6b3c53",
   "metadata": {},
   "source": [
    "#### Changing date type"
   ]
  },
  {
   "cell_type": "code",
   "execution_count": 116,
   "id": "eda987e5-d40c-410d-95bb-e30a07687b50",
   "metadata": {},
   "outputs": [],
   "source": [
    "if transaction_data['DATE'].dtype in ['int64', 'float64']:\n",
    "    transaction_data['DATE'] = pd.to_datetime(transaction_data['DATE'], origin='1899-12-30', unit='D')\n"
   ]
  },
  {
   "cell_type": "markdown",
   "id": "e81f27b0-6f2c-4fdb-ab6f-8b9a2e32ba77",
   "metadata": {},
   "source": [
    "#### Examine Product Names"
   ]
  },
  {
   "cell_type": "code",
   "execution_count": 126,
   "id": "84b044b5-53a5-4bf7-a4c6-9df1adb10613",
   "metadata": {},
   "outputs": [
    {
     "data": {
      "text/plain": [
       "PROD_NAME\n",
       "Kettle Mozzarella   Basil & Pesto 175g      3304\n",
       "Kettle Tortilla ChpsHny&Jlpno Chili 150g    3296\n",
       "Cobs Popd Swt/Chlli &Sr/Cream Chips 110g    3269\n",
       "Tyrrells Crisps     Ched & Chives 165g      3268\n",
       "Cobs Popd Sea Salt  Chips 110g              3265\n",
       "Kettle 135g Swt Pot Sea Salt                3257\n",
       "Tostitos Splash Of  Lime 175g               3252\n",
       "Infuzions Thai SweetChili PotatoMix 110g    3242\n",
       "Smiths Crnkle Chip  Orgnl Big Bag 380g      3233\n",
       "Thins Potato Chips  Hot & Spicy 175g        3229\n",
       "Kettle Sensations   Camembert & Fig 150g    3219\n",
       "Doritos Corn Chips  Cheese Supreme 170g     3217\n",
       "Pringles Barbeque   134g                    3210\n",
       "Doritos Corn Chip Mexican Jalapeno 150g     3204\n",
       "Kettle Sweet Chilli And Sour Cream 175g     3200\n",
       "Smiths Crinkle Chips Salt & Vinegar 330g    3197\n",
       "Thins Chips Light&  Tangy 175g              3188\n",
       "Dorito Corn Chp     Supreme 380g            3185\n",
       "Pringles Sweet&Spcy BBQ 134g                3177\n",
       "Infuzions BBQ Rib   Prawn Crackers 110g     3174\n",
       "Name: count, dtype: int64"
      ]
     },
     "execution_count": 126,
     "metadata": {},
     "output_type": "execute_result"
    }
   ],
   "source": [
    "prod_name_summary = transaction_data['PROD_NAME'].value_counts() #kind of similar to group by in SQL\n",
    "prod_name_summary.head(20)"
   ]
  },
  {
   "cell_type": "markdown",
   "id": "d9357fe1-a8e8-4d0d-ad77-b3392dcfce7d",
   "metadata": {},
   "source": [
    "#### Checking Salsa products as they are not classified as Chips"
   ]
  },
  {
   "cell_type": "code",
   "execution_count": 130,
   "id": "d4fcffaa-401c-40bf-a0dc-30227967ffd2",
   "metadata": {},
   "outputs": [
    {
     "name": "stdout",
     "output_type": "stream",
     "text": [
      "Number of 'salsa' products: 18094\n",
      "PROD_NAME\n",
      "Old El Paso Salsa   Dip Chnky Tom Ht300g    3125\n",
      "Old El Paso Salsa   Dip Tomato Med 300g     3114\n",
      "Old El Paso Salsa   Dip Tomato Mild 300g    3085\n",
      "Woolworths Mild     Salsa 300g              1491\n",
      "Doritos Salsa Mild  300g                    1472\n",
      "Smiths Crinkle Cut  Tomato Salsa 150g       1470\n",
      "Red Rock Deli SR    Salsa & Mzzrlla 150g    1458\n",
      "Doritos Salsa       Medium 300g             1449\n",
      "Woolworths Medium   Salsa 300g              1430\n",
      "Name: count, dtype: int64\n"
     ]
    }
   ],
   "source": [
    "salsa_products = prod_name_summary[prod_name_summary.index.str.contains(\"salsa\", case=False)]\n",
    "num_salsa_products = salsa_products.sum()\n",
    "\n",
    "print(f\"Number of 'salsa' products: {num_salsa_products}\")\n",
    "\n",
    "print(salsa_products)"
   ]
  },
  {
   "cell_type": "markdown",
   "id": "afbd7ff4-1a04-496a-91ad-fb2ee79b1991",
   "metadata": {},
   "source": [
    "#### Removing Salsa products except the Chips with Salsa taste"
   ]
  },
  {
   "cell_type": "code",
   "execution_count": 145,
   "id": "7dddcac6-888c-4cf5-876c-dd6feb636edf",
   "metadata": {},
   "outputs": [
    {
     "name": "stdout",
     "output_type": "stream",
     "text": [
      "PROD_NAME\n",
      "Kettle Mozzarella   Basil & Pesto 175g      3304\n",
      "Kettle Tortilla ChpsHny&Jlpno Chili 150g    3296\n",
      "Cobs Popd Swt/Chlli &Sr/Cream Chips 110g    3269\n",
      "Tyrrells Crisps     Ched & Chives 165g      3268\n",
      "Cobs Popd Sea Salt  Chips 110g              3265\n",
      "                                            ... \n",
      "Sunbites Whlegrn    Crisps Frch/Onin 90g    1432\n",
      "RRD Pc Sea Salt     165g                    1431\n",
      "NCC Sour Cream &    Garden Chives 175g      1419\n",
      "French Fries Potato Chips 175g              1418\n",
      "WW Crinkle Cut      Original 175g           1410\n",
      "Name: count, Length: 107, dtype: int64\n"
     ]
    }
   ],
   "source": [
    "# List of specific salsa products we need to keep\n",
    "products_to_keep = [\n",
    "    \"Smiths Crinkle Cut  Tomato Salsa 150g\",\n",
    "    \"Red Rock Deli SR    Salsa & Mzzrlla 150g\"\n",
    "]\n",
    "\n",
    "transaction_data = transaction_data[\n",
    "    ~transaction_data['PROD_NAME'].str.contains(\"salsa\", case=False) |\n",
    "    transaction_data['PROD_NAME'].isin(products_to_keep)\n",
    "]\n",
    "\n",
    "print(transaction_data['PROD_NAME'].value_counts())"
   ]
  },
  {
   "cell_type": "markdown",
   "id": "1455a1b8-1531-42cb-965a-2f5e052b5c45",
   "metadata": {},
   "source": [
    "#### Double Checking if Salsa products have been removed"
   ]
  },
  {
   "cell_type": "code",
   "execution_count": 147,
   "id": "8b26c33b-50de-40fa-a1b2-2cef8680935a",
   "metadata": {},
   "outputs": [
    {
     "name": "stdout",
     "output_type": "stream",
     "text": [
      "Number of 'salsa' products in filtered data: 2928\n",
      "PROD_NAME\n",
      "Smiths Crinkle Cut  Tomato Salsa 150g       1470\n",
      "Red Rock Deli SR    Salsa & Mzzrlla 150g    1458\n",
      "Name: count, dtype: int64\n"
     ]
    }
   ],
   "source": [
    "\n",
    "salsa_products_data_filtered = transaction_data[transaction_data['PROD_NAME'].str.contains(\"salsa\", case=False)]\n",
    "\n",
    "num_salsa_products_filtered = salsa_products_data_filtered.shape[0]\n",
    "\n",
    "print(f\"Number of 'salsa' products in filtered data: {num_salsa_products_filtered}\")\n",
    "\n",
    "salsa_products_summary_filtered = salsa_products_data_filtered['PROD_NAME'].value_counts()\n",
    "\n",
    "print(salsa_products_summary_filtered)"
   ]
  },
  {
   "cell_type": "markdown",
   "id": "93d28e5c-2dd8-4105-80a6-810226a82538",
   "metadata": {},
   "source": [
    "#### Checking for outliers"
   ]
  },
  {
   "cell_type": "code",
   "execution_count": 162,
   "id": "9fb9f5be-0cc5-4941-9c7b-59c6b51ad840",
   "metadata": {},
   "outputs": [
    {
     "data": {
      "text/html": [
       "<div>\n",
       "<style scoped>\n",
       "    .dataframe tbody tr th:only-of-type {\n",
       "        vertical-align: middle;\n",
       "    }\n",
       "\n",
       "    .dataframe tbody tr th {\n",
       "        vertical-align: top;\n",
       "    }\n",
       "\n",
       "    .dataframe thead th {\n",
       "        text-align: right;\n",
       "    }\n",
       "</style>\n",
       "<table border=\"1\" class=\"dataframe\">\n",
       "  <thead>\n",
       "    <tr style=\"text-align: right;\">\n",
       "      <th></th>\n",
       "      <th>DATE</th>\n",
       "      <th>STORE_NBR</th>\n",
       "      <th>LYLTY_CARD_NBR</th>\n",
       "      <th>TXN_ID</th>\n",
       "      <th>PROD_NBR</th>\n",
       "      <th>PROD_NAME</th>\n",
       "      <th>PROD_QTY</th>\n",
       "      <th>TOT_SALES</th>\n",
       "    </tr>\n",
       "  </thead>\n",
       "  <tbody>\n",
       "    <tr>\n",
       "      <th>69762</th>\n",
       "      <td>2018-08-19</td>\n",
       "      <td>226</td>\n",
       "      <td>226000</td>\n",
       "      <td>226201</td>\n",
       "      <td>4</td>\n",
       "      <td>Dorito Corn Chp     Supreme 380g</td>\n",
       "      <td>200</td>\n",
       "      <td>650.0</td>\n",
       "    </tr>\n",
       "    <tr>\n",
       "      <th>69763</th>\n",
       "      <td>2019-05-20</td>\n",
       "      <td>226</td>\n",
       "      <td>226000</td>\n",
       "      <td>226210</td>\n",
       "      <td>4</td>\n",
       "      <td>Dorito Corn Chp     Supreme 380g</td>\n",
       "      <td>200</td>\n",
       "      <td>650.0</td>\n",
       "    </tr>\n",
       "  </tbody>\n",
       "</table>\n",
       "</div>"
      ],
      "text/plain": [
       "            DATE  STORE_NBR  LYLTY_CARD_NBR  TXN_ID  PROD_NBR  \\\n",
       "69762 2018-08-19        226          226000  226201         4   \n",
       "69763 2019-05-20        226          226000  226210         4   \n",
       "\n",
       "                              PROD_NAME  PROD_QTY  TOT_SALES  \n",
       "69762  Dorito Corn Chp     Supreme 380g       200      650.0  \n",
       "69763  Dorito Corn Chp     Supreme 380g       200      650.0  "
      ]
     },
     "execution_count": 162,
     "metadata": {},
     "output_type": "execute_result"
    }
   ],
   "source": [
    "transaction_data.describe()\n",
    "# Filtering out transactions with unusually high quantities, we found out max as 200 when mean is 2. \n",
    "outliers = transaction_data[transaction_data['PROD_QTY'] >= 100]\n",
    "outliers"
   ]
  },
  {
   "cell_type": "markdown",
   "id": "b0413503-86f8-4b0c-8e2b-d4ee60551913",
   "metadata": {},
   "source": [
    "#### Filtering outliers"
   ]
  },
  {
   "cell_type": "code",
   "execution_count": null,
   "id": "5cb87acd-07b2-4a99-9d7e-8501b8e4bbe9",
   "metadata": {},
   "outputs": [],
   "source": [
    "customer_id_to_remove = outliers['LYLTY_CARD_NBR'].iloc[0]\n",
    "transaction_data = transaction_data[transaction_data['LYLTY_CARD_NBR'] != customer_id_to_remove]"
   ]
  }
 ],
 "metadata": {
  "kernelspec": {
   "display_name": "Python 3 (ipykernel)",
   "language": "python",
   "name": "python3"
  },
  "language_info": {
   "codemirror_mode": {
    "name": "ipython",
    "version": 3
   },
   "file_extension": ".py",
   "mimetype": "text/x-python",
   "name": "python",
   "nbconvert_exporter": "python",
   "pygments_lexer": "ipython3",
   "version": "3.12.4"
  }
 },
 "nbformat": 4,
 "nbformat_minor": 5
}
