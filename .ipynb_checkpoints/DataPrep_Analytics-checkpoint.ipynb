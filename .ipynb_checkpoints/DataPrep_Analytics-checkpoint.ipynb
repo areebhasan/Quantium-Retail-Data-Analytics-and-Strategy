{
 "cells": [
  {
   "cell_type": "markdown",
   "id": "07c0b2cc-bed2-48bf-a313-a36561ffaa16",
   "metadata": {},
   "source": [
    "# Data Preparation and Customer Analytics"
   ]
  },
  {
   "cell_type": "markdown",
   "id": "0efa2058-fc95-45cb-b7b9-7ae5b023f5f0",
   "metadata": {},
   "source": [
    "### Importing necessary libraries "
   ]
  },
  {
   "cell_type": "code",
   "execution_count": null,
   "id": "09f0ba60-c87c-4ec2-8199-39165bcd91db",
   "metadata": {},
   "outputs": [],
   "source": []
  }
 ],
 "metadata": {
  "kernelspec": {
   "display_name": "Python 3 (ipykernel)",
   "language": "python",
   "name": "python3"
  },
  "language_info": {
   "codemirror_mode": {
    "name": "ipython",
    "version": 3
   },
   "file_extension": ".py",
   "mimetype": "text/x-python",
   "name": "python",
   "nbconvert_exporter": "python",
   "pygments_lexer": "ipython3",
   "version": "3.12.4"
  }
 },
 "nbformat": 4,
 "nbformat_minor": 5
}
